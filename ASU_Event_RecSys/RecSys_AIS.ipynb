{
  "nbformat": 4,
  "nbformat_minor": 0,
  "metadata": {
    "colab": {
      "provenance": []
    },
    "kernelspec": {
      "name": "python3",
      "display_name": "Python 3"
    },
    "language_info": {
      "name": "python"
    }
  },
  "cells": [
    {
      "cell_type": "code",
      "execution_count": null,
      "metadata": {
        "id": "XrdgnBpAYpU3"
      },
      "outputs": [],
      "source": [
        "#Importing necessary libraries\n",
        "import pandas as pd\n",
        "import numpy as np\n",
        "import matplotlib.pyplot as plt\n",
        "%matplotlib inline\n",
        "import seaborn as sns"
      ]
    },
    {
      "cell_type": "code",
      "source": [
        "data = pd.read_csv('/content/drive/MyDrive/AI Society Fall23/Domo/preprocessed_data.csv')"
      ],
      "metadata": {
        "id": "wMUIeDXMZnfb"
      },
      "execution_count": null,
      "outputs": []
    },
    {
      "cell_type": "code",
      "source": [
        "data.shape"
      ],
      "metadata": {
        "colab": {
          "base_uri": "https://localhost:8080/"
        },
        "id": "WVxsVHk4kxK0",
        "outputId": "7c86de17-bf64-4b68-df0c-c9e57507c4e1"
      },
      "execution_count": null,
      "outputs": [
        {
          "output_type": "execute_result",
          "data": {
            "text/plain": [
              "(376, 8)"
            ]
          },
          "metadata": {},
          "execution_count": 37
        }
      ]
    },
    {
      "cell_type": "code",
      "source": [
        "df  = data[['event_name', 'datetime', 'description', 'host_org', 'event_perks', 'location']]"
      ],
      "metadata": {
        "id": "trAHgzNjk3rE"
      },
      "execution_count": null,
      "outputs": []
    },
    {
      "cell_type": "code",
      "source": [
        "#Fill the na values with unknown in host_org, event_perks features in df dataframe\n",
        "\n",
        "df['host_org'].fillna('unknown', inplace=True)\n",
        "df['event_perks'].fillna('unknown', inplace=True)"
      ],
      "metadata": {
        "colab": {
          "base_uri": "https://localhost:8080/"
        },
        "id": "sUehHj76mmrS",
        "outputId": "47666cda-f280-472a-a70d-32830b0f4cd9"
      },
      "execution_count": null,
      "outputs": [
        {
          "output_type": "stream",
          "name": "stderr",
          "text": [
            "<ipython-input-39-2711c94ff00b>:3: FutureWarning: A value is trying to be set on a copy of a DataFrame or Series through chained assignment using an inplace method.\n",
            "The behavior will change in pandas 3.0. This inplace method will never work because the intermediate object on which we are setting values always behaves as a copy.\n",
            "\n",
            "For example, when doing 'df[col].method(value, inplace=True)', try using 'df.method({col: value}, inplace=True)' or df[col] = df[col].method(value) instead, to perform the operation inplace on the original object.\n",
            "\n",
            "\n",
            "  df['host_org'].fillna('unknown', inplace=True)\n",
            "<ipython-input-39-2711c94ff00b>:3: SettingWithCopyWarning: \n",
            "A value is trying to be set on a copy of a slice from a DataFrame\n",
            "\n",
            "See the caveats in the documentation: https://pandas.pydata.org/pandas-docs/stable/user_guide/indexing.html#returning-a-view-versus-a-copy\n",
            "  df['host_org'].fillna('unknown', inplace=True)\n",
            "<ipython-input-39-2711c94ff00b>:4: FutureWarning: A value is trying to be set on a copy of a DataFrame or Series through chained assignment using an inplace method.\n",
            "The behavior will change in pandas 3.0. This inplace method will never work because the intermediate object on which we are setting values always behaves as a copy.\n",
            "\n",
            "For example, when doing 'df[col].method(value, inplace=True)', try using 'df.method({col: value}, inplace=True)' or df[col] = df[col].method(value) instead, to perform the operation inplace on the original object.\n",
            "\n",
            "\n",
            "  df['event_perks'].fillna('unknown', inplace=True)\n",
            "<ipython-input-39-2711c94ff00b>:4: SettingWithCopyWarning: \n",
            "A value is trying to be set on a copy of a slice from a DataFrame\n",
            "\n",
            "See the caveats in the documentation: https://pandas.pydata.org/pandas-docs/stable/user_guide/indexing.html#returning-a-view-versus-a-copy\n",
            "  df['event_perks'].fillna('unknown', inplace=True)\n"
          ]
        }
      ]
    },
    {
      "cell_type": "code",
      "source": [
        "data['host_org'] = data['host_org'].fillna('')\n",
        "data.event_perks = data.event_perks.fillna('')\n",
        "data.categories = data.categories.fillna('')"
      ],
      "metadata": {
        "id": "2HBUmnRrZ0qD"
      },
      "execution_count": null,
      "outputs": []
    },
    {
      "cell_type": "code",
      "source": [
        "data['information'] = data['description'] + ' ' + data['host_org'] + ' ' + data['event_perks'] + ' ' + data['categories'] + ' ' + data['location']"
      ],
      "metadata": {
        "id": "a2Z8lAPvoGMT"
      },
      "execution_count": null,
      "outputs": []
    },
    {
      "cell_type": "code",
      "source": [
        "import re\n",
        "import string\n",
        "!pip install contractions\n",
        "import contractions\n",
        "import nltk\n",
        "from nltk.corpus import stopwords\n",
        "nltk.download('stopwords')"
      ],
      "metadata": {
        "colab": {
          "base_uri": "https://localhost:8080/"
        },
        "id": "hxjr0PJRaXQI",
        "outputId": "6c14aef6-d374-431f-c4c0-fc9860d24670"
      },
      "execution_count": null,
      "outputs": [
        {
          "output_type": "stream",
          "name": "stdout",
          "text": [
            "Requirement already satisfied: contractions in /usr/local/lib/python3.10/dist-packages (0.1.73)\n",
            "Requirement already satisfied: textsearch>=0.0.21 in /usr/local/lib/python3.10/dist-packages (from contractions) (0.0.24)\n",
            "Requirement already satisfied: anyascii in /usr/local/lib/python3.10/dist-packages (from textsearch>=0.0.21->contractions) (0.3.2)\n",
            "Requirement already satisfied: pyahocorasick in /usr/local/lib/python3.10/dist-packages (from textsearch>=0.0.21->contractions) (2.1.0)\n"
          ]
        },
        {
          "output_type": "stream",
          "name": "stderr",
          "text": [
            "[nltk_data] Downloading package stopwords to /root/nltk_data...\n",
            "[nltk_data]   Package stopwords is already up-to-date!\n"
          ]
        },
        {
          "output_type": "execute_result",
          "data": {
            "text/plain": [
              "True"
            ]
          },
          "metadata": {},
          "execution_count": 42
        }
      ]
    },
    {
      "cell_type": "code",
      "source": [
        "def preprocess_text(data):\n",
        "\n",
        "    # Convert to lowercase\n",
        "    if isinstance(data, pd.Series):\n",
        "        data = data.astype(str).apply(lambda x: x.lower())\n",
        "    else:\n",
        "        data = data.lower()\n",
        "\n",
        "    # Remove HTML tags\n",
        "    data = re.sub(r'<.*?>', '', data)\n",
        "\n",
        "    # Remove URLs\n",
        "    data = re.sub(r'https?://[^\\s]+', '', data)\n",
        "\n",
        "    # Remove mentions\n",
        "    data = re.sub(r'@\\w+', '', data)\n",
        "\n",
        "    # Remove hashtags\n",
        "    data = re.sub(r'#\\w+', '', data)\n",
        "\n",
        "    # Remove special characters and punctuation\n",
        "    data = re.sub(r'[^a-zA-Z0-9\\s]', '', data)\n",
        "\n",
        "    # Remove punctuation\n",
        "    data = data.translate(str.maketrans('', '', string.punctuation))\n",
        "\n",
        "    # Remove digits\n",
        "    data = ''.join([i for i in data if not i.isdigit()])\n",
        "\n",
        "    # Remove extra whitespace\n",
        "    data = re.sub(r'\\s+', ' ', data.strip())\n",
        "\n",
        "    # Performing contractions\n",
        "    data = contractions.fix(data)\n",
        "\n",
        "    # Remove stop words using NLTK\n",
        "    stop = nltk.corpus.stopwords.words('english')\n",
        "    data = ' '.join([x for x in data.split() if x not in (stop)])\n",
        "\n",
        "    return data"
      ],
      "metadata": {
        "id": "5m1ZZEJGbwpW"
      },
      "execution_count": null,
      "outputs": []
    },
    {
      "cell_type": "code",
      "source": [
        "data.information = data.information.apply(preprocess_text)"
      ],
      "metadata": {
        "id": "B524-3Kqbz1B"
      },
      "execution_count": null,
      "outputs": []
    },
    {
      "cell_type": "code",
      "source": [
        "def recommned(user_input):\n",
        "\n",
        "  # Preprocess user input\n",
        "  user_data = preprocess_text(user_input)\n",
        "\n",
        "  # Combining ifidf from data.\n",
        "  from sklearn.feature_extraction.text import TfidfVectorizer\n",
        "  vectorizer = TfidfVectorizer(max_features=10000)\n",
        "\n",
        "  # Fit the vectorizer on the combined text data\n",
        "  vectorizer.fit(data.information)\n",
        "\n",
        "  # Transform the user input\n",
        "  user_ifidf = vectorizer.transform([user_data])\n",
        "\n",
        "  # Transform the text data\n",
        "  df_tfidf = vectorizer.transform(data.information)\n",
        "\n",
        "  # Calculate cosine similarity\n",
        "  from sklearn.metrics.pairwise import cosine_similarity\n",
        "  cosine_sim = cosine_similarity(user_ifidf, df_tfidf)\n",
        "\n",
        "  # Get top 5 recommendations\n",
        "  top_indices = cosine_sim.argsort().flatten()[-5:][::-1]\n",
        "  recommendations = df.iloc[top_indices]\n",
        "  return recommendations"
      ],
      "metadata": {
        "id": "psHqQcyGcfH8"
      },
      "execution_count": null,
      "outputs": []
    },
    {
      "cell_type": "markdown",
      "source": [
        "# Finally finished!"
      ],
      "metadata": {
        "id": "Os72UiMrpcWx"
      }
    },
    {
      "cell_type": "code",
      "source": [
        "recommned('I like music, free food, and networking')"
      ],
      "metadata": {
        "colab": {
          "base_uri": "https://localhost:8080/",
          "height": 293
        },
        "id": "wxs0d67nk9Ig",
        "outputId": "12abace8-c731-4e9d-8f2f-ae0c5dbbe89d"
      },
      "execution_count": null,
      "outputs": [
        {
          "output_type": "execute_result",
          "data": {
            "text/plain": [
              "                                            event_name             datetime  \\\n",
              "31                                      Art After Dark  2024-08-17 19:30:00   \n",
              "292  School of Music, Dance and Theatre TA Training...  2024-08-19 15:30:00   \n",
              "137  Glo BINGO Hosted by the College of Integrative...  2024-09-06 18:00:00   \n",
              "261                           Popsicles and Yard Games  2024-08-22 20:00:00   \n",
              "185                Join Us! 1st Fall Semester Meeting!  2024-09-04 16:30:00   \n",
              "\n",
              "                                           description  \\\n",
              "31   come student union enjoy evening music crafts ...   \n",
              "292  welcome new teaching assistants school music d...   \n",
              "137  prepare unforgettable evening packed bright li...   \n",
              "261  come eat popsicles play yard games us school m...   \n",
              "185  join us small networking event club members we...   \n",
              "\n",
              "                                              host_org event_perks  \\\n",
              "31                                         polytechnic        food   \n",
              "292  host organizations school music dance theatre ...     unknown   \n",
              "137  host organizations college integrative science...  food stuff   \n",
              "261                                         young life     unknown   \n",
              "185                                               shrm     unknown   \n",
              "\n",
              "                                              location  \n",
              "31                                       student union  \n",
              "292             katzin concert hall e gammage dr tempe  \n",
              "137                                 polytechnic cooley  \n",
              "261  school music courtyard gammage gammage pkwy tempe  \n",
              "185                                             online  "
            ],
            "text/html": [
              "\n",
              "  <div id=\"df-8f35ddc4-415f-4e61-ad49-dc07d044a6fd\" class=\"colab-df-container\">\n",
              "    <div>\n",
              "<style scoped>\n",
              "    .dataframe tbody tr th:only-of-type {\n",
              "        vertical-align: middle;\n",
              "    }\n",
              "\n",
              "    .dataframe tbody tr th {\n",
              "        vertical-align: top;\n",
              "    }\n",
              "\n",
              "    .dataframe thead th {\n",
              "        text-align: right;\n",
              "    }\n",
              "</style>\n",
              "<table border=\"1\" class=\"dataframe\">\n",
              "  <thead>\n",
              "    <tr style=\"text-align: right;\">\n",
              "      <th></th>\n",
              "      <th>event_name</th>\n",
              "      <th>datetime</th>\n",
              "      <th>description</th>\n",
              "      <th>host_org</th>\n",
              "      <th>event_perks</th>\n",
              "      <th>location</th>\n",
              "    </tr>\n",
              "  </thead>\n",
              "  <tbody>\n",
              "    <tr>\n",
              "      <th>31</th>\n",
              "      <td>Art After Dark</td>\n",
              "      <td>2024-08-17 19:30:00</td>\n",
              "      <td>come student union enjoy evening music crafts ...</td>\n",
              "      <td>polytechnic</td>\n",
              "      <td>food</td>\n",
              "      <td>student union</td>\n",
              "    </tr>\n",
              "    <tr>\n",
              "      <th>292</th>\n",
              "      <td>School of Music, Dance and Theatre TA Training...</td>\n",
              "      <td>2024-08-19 15:30:00</td>\n",
              "      <td>welcome new teaching assistants school music d...</td>\n",
              "      <td>host organizations school music dance theatre ...</td>\n",
              "      <td>unknown</td>\n",
              "      <td>katzin concert hall e gammage dr tempe</td>\n",
              "    </tr>\n",
              "    <tr>\n",
              "      <th>137</th>\n",
              "      <td>Glo BINGO Hosted by the College of Integrative...</td>\n",
              "      <td>2024-09-06 18:00:00</td>\n",
              "      <td>prepare unforgettable evening packed bright li...</td>\n",
              "      <td>host organizations college integrative science...</td>\n",
              "      <td>food stuff</td>\n",
              "      <td>polytechnic cooley</td>\n",
              "    </tr>\n",
              "    <tr>\n",
              "      <th>261</th>\n",
              "      <td>Popsicles and Yard Games</td>\n",
              "      <td>2024-08-22 20:00:00</td>\n",
              "      <td>come eat popsicles play yard games us school m...</td>\n",
              "      <td>young life</td>\n",
              "      <td>unknown</td>\n",
              "      <td>school music courtyard gammage gammage pkwy tempe</td>\n",
              "    </tr>\n",
              "    <tr>\n",
              "      <th>185</th>\n",
              "      <td>Join Us! 1st Fall Semester Meeting!</td>\n",
              "      <td>2024-09-04 16:30:00</td>\n",
              "      <td>join us small networking event club members we...</td>\n",
              "      <td>shrm</td>\n",
              "      <td>unknown</td>\n",
              "      <td>online</td>\n",
              "    </tr>\n",
              "  </tbody>\n",
              "</table>\n",
              "</div>\n",
              "    <div class=\"colab-df-buttons\">\n",
              "\n",
              "  <div class=\"colab-df-container\">\n",
              "    <button class=\"colab-df-convert\" onclick=\"convertToInteractive('df-8f35ddc4-415f-4e61-ad49-dc07d044a6fd')\"\n",
              "            title=\"Convert this dataframe to an interactive table.\"\n",
              "            style=\"display:none;\">\n",
              "\n",
              "  <svg xmlns=\"http://www.w3.org/2000/svg\" height=\"24px\" viewBox=\"0 -960 960 960\">\n",
              "    <path d=\"M120-120v-720h720v720H120Zm60-500h600v-160H180v160Zm220 220h160v-160H400v160Zm0 220h160v-160H400v160ZM180-400h160v-160H180v160Zm440 0h160v-160H620v160ZM180-180h160v-160H180v160Zm440 0h160v-160H620v160Z\"/>\n",
              "  </svg>\n",
              "    </button>\n",
              "\n",
              "  <style>\n",
              "    .colab-df-container {\n",
              "      display:flex;\n",
              "      gap: 12px;\n",
              "    }\n",
              "\n",
              "    .colab-df-convert {\n",
              "      background-color: #E8F0FE;\n",
              "      border: none;\n",
              "      border-radius: 50%;\n",
              "      cursor: pointer;\n",
              "      display: none;\n",
              "      fill: #1967D2;\n",
              "      height: 32px;\n",
              "      padding: 0 0 0 0;\n",
              "      width: 32px;\n",
              "    }\n",
              "\n",
              "    .colab-df-convert:hover {\n",
              "      background-color: #E2EBFA;\n",
              "      box-shadow: 0px 1px 2px rgba(60, 64, 67, 0.3), 0px 1px 3px 1px rgba(60, 64, 67, 0.15);\n",
              "      fill: #174EA6;\n",
              "    }\n",
              "\n",
              "    .colab-df-buttons div {\n",
              "      margin-bottom: 4px;\n",
              "    }\n",
              "\n",
              "    [theme=dark] .colab-df-convert {\n",
              "      background-color: #3B4455;\n",
              "      fill: #D2E3FC;\n",
              "    }\n",
              "\n",
              "    [theme=dark] .colab-df-convert:hover {\n",
              "      background-color: #434B5C;\n",
              "      box-shadow: 0px 1px 3px 1px rgba(0, 0, 0, 0.15);\n",
              "      filter: drop-shadow(0px 1px 2px rgba(0, 0, 0, 0.3));\n",
              "      fill: #FFFFFF;\n",
              "    }\n",
              "  </style>\n",
              "\n",
              "    <script>\n",
              "      const buttonEl =\n",
              "        document.querySelector('#df-8f35ddc4-415f-4e61-ad49-dc07d044a6fd button.colab-df-convert');\n",
              "      buttonEl.style.display =\n",
              "        google.colab.kernel.accessAllowed ? 'block' : 'none';\n",
              "\n",
              "      async function convertToInteractive(key) {\n",
              "        const element = document.querySelector('#df-8f35ddc4-415f-4e61-ad49-dc07d044a6fd');\n",
              "        const dataTable =\n",
              "          await google.colab.kernel.invokeFunction('convertToInteractive',\n",
              "                                                    [key], {});\n",
              "        if (!dataTable) return;\n",
              "\n",
              "        const docLinkHtml = 'Like what you see? Visit the ' +\n",
              "          '<a target=\"_blank\" href=https://colab.research.google.com/notebooks/data_table.ipynb>data table notebook</a>'\n",
              "          + ' to learn more about interactive tables.';\n",
              "        element.innerHTML = '';\n",
              "        dataTable['output_type'] = 'display_data';\n",
              "        await google.colab.output.renderOutput(dataTable, element);\n",
              "        const docLink = document.createElement('div');\n",
              "        docLink.innerHTML = docLinkHtml;\n",
              "        element.appendChild(docLink);\n",
              "      }\n",
              "    </script>\n",
              "  </div>\n",
              "\n",
              "\n",
              "<div id=\"df-0af69780-2546-440d-add3-a82a605e4a12\">\n",
              "  <button class=\"colab-df-quickchart\" onclick=\"quickchart('df-0af69780-2546-440d-add3-a82a605e4a12')\"\n",
              "            title=\"Suggest charts\"\n",
              "            style=\"display:none;\">\n",
              "\n",
              "<svg xmlns=\"http://www.w3.org/2000/svg\" height=\"24px\"viewBox=\"0 0 24 24\"\n",
              "     width=\"24px\">\n",
              "    <g>\n",
              "        <path d=\"M19 3H5c-1.1 0-2 .9-2 2v14c0 1.1.9 2 2 2h14c1.1 0 2-.9 2-2V5c0-1.1-.9-2-2-2zM9 17H7v-7h2v7zm4 0h-2V7h2v10zm4 0h-2v-4h2v4z\"/>\n",
              "    </g>\n",
              "</svg>\n",
              "  </button>\n",
              "\n",
              "<style>\n",
              "  .colab-df-quickchart {\n",
              "      --bg-color: #E8F0FE;\n",
              "      --fill-color: #1967D2;\n",
              "      --hover-bg-color: #E2EBFA;\n",
              "      --hover-fill-color: #174EA6;\n",
              "      --disabled-fill-color: #AAA;\n",
              "      --disabled-bg-color: #DDD;\n",
              "  }\n",
              "\n",
              "  [theme=dark] .colab-df-quickchart {\n",
              "      --bg-color: #3B4455;\n",
              "      --fill-color: #D2E3FC;\n",
              "      --hover-bg-color: #434B5C;\n",
              "      --hover-fill-color: #FFFFFF;\n",
              "      --disabled-bg-color: #3B4455;\n",
              "      --disabled-fill-color: #666;\n",
              "  }\n",
              "\n",
              "  .colab-df-quickchart {\n",
              "    background-color: var(--bg-color);\n",
              "    border: none;\n",
              "    border-radius: 50%;\n",
              "    cursor: pointer;\n",
              "    display: none;\n",
              "    fill: var(--fill-color);\n",
              "    height: 32px;\n",
              "    padding: 0;\n",
              "    width: 32px;\n",
              "  }\n",
              "\n",
              "  .colab-df-quickchart:hover {\n",
              "    background-color: var(--hover-bg-color);\n",
              "    box-shadow: 0 1px 2px rgba(60, 64, 67, 0.3), 0 1px 3px 1px rgba(60, 64, 67, 0.15);\n",
              "    fill: var(--button-hover-fill-color);\n",
              "  }\n",
              "\n",
              "  .colab-df-quickchart-complete:disabled,\n",
              "  .colab-df-quickchart-complete:disabled:hover {\n",
              "    background-color: var(--disabled-bg-color);\n",
              "    fill: var(--disabled-fill-color);\n",
              "    box-shadow: none;\n",
              "  }\n",
              "\n",
              "  .colab-df-spinner {\n",
              "    border: 2px solid var(--fill-color);\n",
              "    border-color: transparent;\n",
              "    border-bottom-color: var(--fill-color);\n",
              "    animation:\n",
              "      spin 1s steps(1) infinite;\n",
              "  }\n",
              "\n",
              "  @keyframes spin {\n",
              "    0% {\n",
              "      border-color: transparent;\n",
              "      border-bottom-color: var(--fill-color);\n",
              "      border-left-color: var(--fill-color);\n",
              "    }\n",
              "    20% {\n",
              "      border-color: transparent;\n",
              "      border-left-color: var(--fill-color);\n",
              "      border-top-color: var(--fill-color);\n",
              "    }\n",
              "    30% {\n",
              "      border-color: transparent;\n",
              "      border-left-color: var(--fill-color);\n",
              "      border-top-color: var(--fill-color);\n",
              "      border-right-color: var(--fill-color);\n",
              "    }\n",
              "    40% {\n",
              "      border-color: transparent;\n",
              "      border-right-color: var(--fill-color);\n",
              "      border-top-color: var(--fill-color);\n",
              "    }\n",
              "    60% {\n",
              "      border-color: transparent;\n",
              "      border-right-color: var(--fill-color);\n",
              "    }\n",
              "    80% {\n",
              "      border-color: transparent;\n",
              "      border-right-color: var(--fill-color);\n",
              "      border-bottom-color: var(--fill-color);\n",
              "    }\n",
              "    90% {\n",
              "      border-color: transparent;\n",
              "      border-bottom-color: var(--fill-color);\n",
              "    }\n",
              "  }\n",
              "</style>\n",
              "\n",
              "  <script>\n",
              "    async function quickchart(key) {\n",
              "      const quickchartButtonEl =\n",
              "        document.querySelector('#' + key + ' button');\n",
              "      quickchartButtonEl.disabled = true;  // To prevent multiple clicks.\n",
              "      quickchartButtonEl.classList.add('colab-df-spinner');\n",
              "      try {\n",
              "        const charts = await google.colab.kernel.invokeFunction(\n",
              "            'suggestCharts', [key], {});\n",
              "      } catch (error) {\n",
              "        console.error('Error during call to suggestCharts:', error);\n",
              "      }\n",
              "      quickchartButtonEl.classList.remove('colab-df-spinner');\n",
              "      quickchartButtonEl.classList.add('colab-df-quickchart-complete');\n",
              "    }\n",
              "    (() => {\n",
              "      let quickchartButtonEl =\n",
              "        document.querySelector('#df-0af69780-2546-440d-add3-a82a605e4a12 button');\n",
              "      quickchartButtonEl.style.display =\n",
              "        google.colab.kernel.accessAllowed ? 'block' : 'none';\n",
              "    })();\n",
              "  </script>\n",
              "</div>\n",
              "\n",
              "    </div>\n",
              "  </div>\n"
            ],
            "application/vnd.google.colaboratory.intrinsic+json": {
              "type": "dataframe",
              "repr_error": "0"
            }
          },
          "metadata": {},
          "execution_count": 48
        }
      ]
    },
    {
      "cell_type": "code",
      "source": [],
      "metadata": {
        "id": "VknTfgSKoyvN"
      },
      "execution_count": null,
      "outputs": []
    }
  ]
}